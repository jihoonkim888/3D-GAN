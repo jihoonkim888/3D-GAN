{
 "cells": [
  {
   "cell_type": "code",
   "execution_count": 1,
   "id": "6a938224",
   "metadata": {},
   "outputs": [],
   "source": [
    "import os\n",
    "import numpy as np\n",
    "import binvox as bv\n",
    "import binvox_rw\n",
    "from tqdm.auto import tqdm\n",
    "import matplotlib.pyplot as plt\n",
    "import subprocess"
   ]
  },
  {
   "cell_type": "code",
   "execution_count": 2,
   "id": "39200f19",
   "metadata": {},
   "outputs": [
    {
     "data": {
      "text/plain": [
       "['__pycache__',\n",
       " 'voxelize_obj.ipynb',\n",
       " 'binvox',\n",
       " 'shapenet-lamp',\n",
       " 'binvox_rw.py',\n",
       " 'pytorch-gve-lrcn',\n",
       " '3D-GAN',\n",
       " '.ipynb_checkpoints',\n",
       " 'data',\n",
       " '3D_shape_inpainting']"
      ]
     },
     "execution_count": 2,
     "metadata": {},
     "output_type": "execute_result"
    }
   ],
   "source": [
    "os.listdir()"
   ]
  },
  {
   "cell_type": "code",
   "execution_count": 3,
   "id": "6dbc418c",
   "metadata": {},
   "outputs": [],
   "source": [
    "folder = 'shapenet-lamp'\n",
    "obj_folder = os.path.join(folder, 'obj_files')\n",
    "save_folder = 'data/shapenet-lamp'"
   ]
  },
  {
   "cell_type": "code",
   "execution_count": 4,
   "id": "1441d49c",
   "metadata": {},
   "outputs": [],
   "source": [
    "os.system(f'rm -r {obj_folder}')\n",
    "\n",
    "lst_files = []\n",
    "for root, _, file in os.walk(folder):\n",
    "    for i in file:\n",
    "        if i.endswith('.obj'):\n",
    "            lst_files.append(os.path.join(root, i))"
   ]
  },
  {
   "cell_type": "code",
   "execution_count": 5,
   "id": "6b732ee7",
   "metadata": {},
   "outputs": [
    {
     "data": {
      "text/plain": [
       "2318"
      ]
     },
     "execution_count": 5,
     "metadata": {},
     "output_type": "execute_result"
    }
   ],
   "source": [
    "len(lst_files)"
   ]
  },
  {
   "cell_type": "code",
   "execution_count": 6,
   "id": "3a42e072",
   "metadata": {},
   "outputs": [],
   "source": [
    "os.makedirs(obj_folder, exist_ok=True)\n",
    "os.makedirs(save_folder, exist_ok=True)\n",
    "for i, file in enumerate(lst_files):\n",
    "    os.system(f'cp {file} {obj_folder}/model_{i}.obj')"
   ]
  },
  {
   "cell_type": "code",
   "execution_count": 7,
   "id": "4baf3ca8",
   "metadata": {},
   "outputs": [
    {
     "data": {
      "text/plain": [
       "2318"
      ]
     },
     "execution_count": 7,
     "metadata": {},
     "output_type": "execute_result"
    }
   ],
   "source": [
    "len(os.listdir(obj_folder))"
   ]
  },
  {
   "cell_type": "code",
   "execution_count": 8,
   "id": "b4a6d7aa",
   "metadata": {},
   "outputs": [
    {
     "data": {
      "application/vnd.jupyter.widget-view+json": {
       "model_id": "795a9f21979a4f33a40b3ee23b567da5",
       "version_major": 2,
       "version_minor": 0
      },
      "text/plain": [
       "  0%|          | 0/2318 [00:00<?, ?it/s]"
      ]
     },
     "metadata": {},
     "output_type": "display_data"
    },
    {
     "ename": "KeyboardInterrupt",
     "evalue": "",
     "output_type": "error",
     "traceback": [
      "\u001b[0;31m---------------------------------------------------------------------------\u001b[0m",
      "\u001b[0;31mKeyboardInterrupt\u001b[0m                         Traceback (most recent call last)",
      "\u001b[1;32m/home/jihoon/diss/voxelize_obj.ipynb Cell 8\u001b[0m in \u001b[0;36m<cell line: 2>\u001b[0;34m()\u001b[0m\n\u001b[1;32m      <a href='vscode-notebook-cell:/home/jihoon/diss/voxelize_obj.ipynb#ch0000007?line=5'>6</a>\u001b[0m     \u001b[39m# -e option gives better results somehow, especially with thin parts of an object\u001b[39;00m\n\u001b[1;32m      <a href='vscode-notebook-cell:/home/jihoon/diss/voxelize_obj.ipynb#ch0000007?line=6'>7</a>\u001b[0m     cmd \u001b[39m=\u001b[39m \u001b[39mf\u001b[39m\u001b[39m'\u001b[39m\u001b[39m./binvox -d \u001b[39m\u001b[39m{\u001b[39;00mres\u001b[39m}\u001b[39;00m\u001b[39m -rotx -cb -aw -e \u001b[39m\u001b[39m{\u001b[39;00mfull_path\u001b[39m}\u001b[39;00m\u001b[39m'\u001b[39m\n\u001b[0;32m----> <a href='vscode-notebook-cell:/home/jihoon/diss/voxelize_obj.ipynb#ch0000007?line=7'>8</a>\u001b[0m     _ \u001b[39m=\u001b[39m subprocess\u001b[39m.\u001b[39;49mcheck_output(cmd, shell\u001b[39m=\u001b[39;49m\u001b[39mTrue\u001b[39;49;00m)\n\u001b[1;32m     <a href='vscode-notebook-cell:/home/jihoon/diss/voxelize_obj.ipynb#ch0000007?line=9'>10</a>\u001b[0m \u001b[39m# find the paths of binvox files\u001b[39;00m\n\u001b[1;32m     <a href='vscode-notebook-cell:/home/jihoon/diss/voxelize_obj.ipynb#ch0000007?line=10'>11</a>\u001b[0m lst_binvox \u001b[39m=\u001b[39m [os\u001b[39m.\u001b[39mpath\u001b[39m.\u001b[39mjoin(obj_folder, i) \u001b[39mfor\u001b[39;00m i \u001b[39min\u001b[39;00m os\u001b[39m.\u001b[39mlistdir(obj_folder) \u001b[39mif\u001b[39;00m i\u001b[39m.\u001b[39mendswith(\u001b[39m'\u001b[39m\u001b[39m.binvox\u001b[39m\u001b[39m'\u001b[39m)]\n",
      "File \u001b[0;32m~/miniconda3/envs/diss/lib/python3.10/subprocess.py:420\u001b[0m, in \u001b[0;36mcheck_output\u001b[0;34m(timeout, *popenargs, **kwargs)\u001b[0m\n\u001b[1;32m    417\u001b[0m         empty \u001b[39m=\u001b[39m \u001b[39mb\u001b[39m\u001b[39m'\u001b[39m\u001b[39m'\u001b[39m\n\u001b[1;32m    418\u001b[0m     kwargs[\u001b[39m'\u001b[39m\u001b[39minput\u001b[39m\u001b[39m'\u001b[39m] \u001b[39m=\u001b[39m empty\n\u001b[0;32m--> 420\u001b[0m \u001b[39mreturn\u001b[39;00m run(\u001b[39m*\u001b[39;49mpopenargs, stdout\u001b[39m=\u001b[39;49mPIPE, timeout\u001b[39m=\u001b[39;49mtimeout, check\u001b[39m=\u001b[39;49m\u001b[39mTrue\u001b[39;49;00m,\n\u001b[1;32m    421\u001b[0m            \u001b[39m*\u001b[39;49m\u001b[39m*\u001b[39;49mkwargs)\u001b[39m.\u001b[39mstdout\n",
      "File \u001b[0;32m~/miniconda3/envs/diss/lib/python3.10/subprocess.py:501\u001b[0m, in \u001b[0;36mrun\u001b[0;34m(input, capture_output, timeout, check, *popenargs, **kwargs)\u001b[0m\n\u001b[1;32m    498\u001b[0m     kwargs[\u001b[39m'\u001b[39m\u001b[39mstdout\u001b[39m\u001b[39m'\u001b[39m] \u001b[39m=\u001b[39m PIPE\n\u001b[1;32m    499\u001b[0m     kwargs[\u001b[39m'\u001b[39m\u001b[39mstderr\u001b[39m\u001b[39m'\u001b[39m] \u001b[39m=\u001b[39m PIPE\n\u001b[0;32m--> 501\u001b[0m \u001b[39mwith\u001b[39;00m Popen(\u001b[39m*\u001b[39;49mpopenargs, \u001b[39m*\u001b[39;49m\u001b[39m*\u001b[39;49mkwargs) \u001b[39mas\u001b[39;00m process:\n\u001b[1;32m    502\u001b[0m     \u001b[39mtry\u001b[39;00m:\n\u001b[1;32m    503\u001b[0m         stdout, stderr \u001b[39m=\u001b[39m process\u001b[39m.\u001b[39mcommunicate(\u001b[39minput\u001b[39m, timeout\u001b[39m=\u001b[39mtimeout)\n",
      "File \u001b[0;32m~/miniconda3/envs/diss/lib/python3.10/subprocess.py:966\u001b[0m, in \u001b[0;36mPopen.__init__\u001b[0;34m(self, args, bufsize, executable, stdin, stdout, stderr, preexec_fn, close_fds, shell, cwd, env, universal_newlines, startupinfo, creationflags, restore_signals, start_new_session, pass_fds, user, group, extra_groups, encoding, errors, text, umask, pipesize)\u001b[0m\n\u001b[1;32m    962\u001b[0m         \u001b[39mif\u001b[39;00m \u001b[39mself\u001b[39m\u001b[39m.\u001b[39mtext_mode:\n\u001b[1;32m    963\u001b[0m             \u001b[39mself\u001b[39m\u001b[39m.\u001b[39mstderr \u001b[39m=\u001b[39m io\u001b[39m.\u001b[39mTextIOWrapper(\u001b[39mself\u001b[39m\u001b[39m.\u001b[39mstderr,\n\u001b[1;32m    964\u001b[0m                     encoding\u001b[39m=\u001b[39mencoding, errors\u001b[39m=\u001b[39merrors)\n\u001b[0;32m--> 966\u001b[0m     \u001b[39mself\u001b[39;49m\u001b[39m.\u001b[39;49m_execute_child(args, executable, preexec_fn, close_fds,\n\u001b[1;32m    967\u001b[0m                         pass_fds, cwd, env,\n\u001b[1;32m    968\u001b[0m                         startupinfo, creationflags, shell,\n\u001b[1;32m    969\u001b[0m                         p2cread, p2cwrite,\n\u001b[1;32m    970\u001b[0m                         c2pread, c2pwrite,\n\u001b[1;32m    971\u001b[0m                         errread, errwrite,\n\u001b[1;32m    972\u001b[0m                         restore_signals,\n\u001b[1;32m    973\u001b[0m                         gid, gids, uid, umask,\n\u001b[1;32m    974\u001b[0m                         start_new_session)\n\u001b[1;32m    975\u001b[0m \u001b[39mexcept\u001b[39;00m:\n\u001b[1;32m    976\u001b[0m     \u001b[39m# Cleanup if the child failed starting.\u001b[39;00m\n\u001b[1;32m    977\u001b[0m     \u001b[39mfor\u001b[39;00m f \u001b[39min\u001b[39;00m \u001b[39mfilter\u001b[39m(\u001b[39mNone\u001b[39;00m, (\u001b[39mself\u001b[39m\u001b[39m.\u001b[39mstdin, \u001b[39mself\u001b[39m\u001b[39m.\u001b[39mstdout, \u001b[39mself\u001b[39m\u001b[39m.\u001b[39mstderr)):\n",
      "File \u001b[0;32m~/miniconda3/envs/diss/lib/python3.10/subprocess.py:1788\u001b[0m, in \u001b[0;36mPopen._execute_child\u001b[0;34m(self, args, executable, preexec_fn, close_fds, pass_fds, cwd, env, startupinfo, creationflags, shell, p2cread, p2cwrite, c2pread, c2pwrite, errread, errwrite, restore_signals, gid, gids, uid, umask, start_new_session)\u001b[0m\n\u001b[1;32m   1785\u001b[0m     \u001b[39mself\u001b[39m\u001b[39m.\u001b[39m_child_created \u001b[39m=\u001b[39m \u001b[39mTrue\u001b[39;00m\n\u001b[1;32m   1786\u001b[0m \u001b[39mfinally\u001b[39;00m:\n\u001b[1;32m   1787\u001b[0m     \u001b[39m# be sure the FD is closed no matter what\u001b[39;00m\n\u001b[0;32m-> 1788\u001b[0m     os\u001b[39m.\u001b[39;49mclose(errpipe_write)\n\u001b[1;32m   1790\u001b[0m \u001b[39mself\u001b[39m\u001b[39m.\u001b[39m_close_pipe_fds(p2cread, p2cwrite,\n\u001b[1;32m   1791\u001b[0m                      c2pread, c2pwrite,\n\u001b[1;32m   1792\u001b[0m                      errread, errwrite)\n\u001b[1;32m   1794\u001b[0m \u001b[39m# Wait for exec to fail or succeed; possibly raising an\u001b[39;00m\n\u001b[1;32m   1795\u001b[0m \u001b[39m# exception (limited in size)\u001b[39;00m\n",
      "\u001b[0;31mKeyboardInterrupt\u001b[0m: "
     ]
    }
   ],
   "source": [
    "lst_res = [64, 128]\n",
    "for res in lst_res:\n",
    "    # convert obj into binvox\n",
    "    for file in tqdm(os.listdir(obj_folder)):\n",
    "        full_path = os.path.join(obj_folder, file)\n",
    "        # -e option gives better results somehow, especially with thin parts of an object\n",
    "        cmd = f'./binvox -d {res} -rotx -cb -aw -e {full_path}'\n",
    "        _ = subprocess.check_output(cmd, shell=True)\n",
    "        \n",
    "    # find the paths of binvox files\n",
    "    lst_binvox = [os.path.join(obj_folder, i) for i in os.listdir(obj_folder) if i.endswith('.binvox')]\n",
    "    print(lst_binvox[0], len(lst_binvox))\n",
    "\n",
    "    # save binvox files in a separate folder\n",
    "    binvox_folder = os.path.join(obj_folder, f'shapenet-lamp-binvox-{res}')\n",
    "    os.makedirs(binvox_folder, exist_ok=True)\n",
    "    for file in lst_binvox:\n",
    "        os.system(f'mv {file} {binvox_folder}')\n",
    "    os.system(f'mv {binvox_folder} {save_folder}')"
   ]
  },
  {
   "cell_type": "code",
   "execution_count": null,
   "id": "0ca6e34a",
   "metadata": {},
   "outputs": [],
   "source": [
    "# folders = ['binvox_files_64', 'binvox_files_128']\n",
    "# for binvox_folder in folders:\n",
    "#     os.system(f'mv {binvox_folder} {save_folder}')"
   ]
  }
 ],
 "metadata": {
  "kernelspec": {
   "display_name": "Python 3.10.4 ('diss': conda)",
   "language": "python",
   "name": "python3"
  },
  "language_info": {
   "codemirror_mode": {
    "name": "ipython",
    "version": 3
   },
   "file_extension": ".py",
   "mimetype": "text/x-python",
   "name": "python",
   "nbconvert_exporter": "python",
   "pygments_lexer": "ipython3",
   "version": "3.10.4"
  },
  "vscode": {
   "interpreter": {
    "hash": "7f6e16a2902cfd478616fc700bafd07cdfad9daee97804a1e4ef1584649d04fd"
   }
  }
 },
 "nbformat": 4,
 "nbformat_minor": 5
}
